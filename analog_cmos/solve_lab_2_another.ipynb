{
 "cells": [
  {
   "cell_type": "code",
   "execution_count": 20,
   "metadata": {},
   "outputs": [],
   "source": [
    "from sympy import I, Symbol, sqrt, simplify, Subs, latex, factor, collect, expand\n",
    "from sympy import solve, Eq, arg, exp, re, im, atan2\n",
    "from sympy.functions.elementary.complexes import Abs\n",
    "import numpy as np"
   ]
  },
  {
   "cell_type": "code",
   "execution_count": 21,
   "metadata": {},
   "outputs": [],
   "source": [
    "ro1 = Symbol('r_{o1}', nonnegative = True)\n",
    "ro2 = Symbol('r_{o2}', nonnegative = True)\n",
    "gm1 = Symbol('g_{m1}', nonnegative = True)\n",
    "gm2 = Symbol('g_{m2}', nonnegative = True)\n",
    "CL = Symbol('C_L', nonnegative = True)\n",
    "CDD1 = Symbol('C_{DD1}', nonnegative = True)\n",
    "CDD2 = Symbol('C_{DD2}', nonnegative = True)\n",
    "omega = Symbol('omega', nonnegative = True)"
   ]
  },
  {
   "cell_type": "code",
   "execution_count": 22,
   "metadata": {},
   "outputs": [
    {
     "data": {
      "text/latex": [
       "$\\displaystyle - \\frac{r_{o2}}{g_{m2} r_{o2} - 1}$"
      ],
      "text/plain": [
       "-r_{o2}/(g_{m2}*r_{o2} - 1)"
      ]
     },
     "execution_count": 22,
     "metadata": {},
     "output_type": "execute_result"
    }
   ],
   "source": [
    "r_eff_PMOS = (1/((1/ro2) - gm2)).simplify()\n",
    "r_eff_PMOS"
   ]
  },
  {
   "cell_type": "code",
   "execution_count": 23,
   "metadata": {},
   "outputs": [],
   "source": [
    "ZCL = 1/(I*omega*CL)\n",
    "ZCDD1 = 1/(I*omega*CDD1)\n",
    "ZCDD2 = 1/(I*omega*CDD2)"
   ]
  },
  {
   "cell_type": "code",
   "execution_count": 24,
   "metadata": {},
   "outputs": [
    {
     "data": {
      "text/latex": [
       "$\\displaystyle \\frac{1}{i \\omega \\left(C_{L} + C_{DD1} + C_{DD2}\\right) + \\frac{- g_{m2} r_{o2} + 1}{r_{o2}} + \\frac{1}{r_{o1}}}$"
      ],
      "text/plain": [
       "1/(I*omega*(C_L + C_{DD1} + C_{DD2}) + (-g_{m2}*r_{o2} + 1)/r_{o2} + 1/r_{o1})"
      ]
     },
     "execution_count": 24,
     "metadata": {},
     "output_type": "execute_result"
    }
   ],
   "source": [
    "Zparallel = (1/((1/ro1) + (1/ZCL) + (1/ZCDD1) + (1/ZCDD2) + (1/r_eff_PMOS))).collect(I*omega)\n",
    "Zparallel"
   ]
  },
  {
   "cell_type": "code",
   "execution_count": 25,
   "metadata": {},
   "outputs": [
    {
     "data": {
      "text/latex": [
       "$\\displaystyle - \\frac{g_{m1}}{i \\omega \\left(C_{L} + C_{DD1} + C_{DD2}\\right) + \\frac{- g_{m2} r_{o2} + 1}{r_{o2}} + \\frac{1}{r_{o1}}}$"
      ],
      "text/plain": [
       "-g_{m1}/(I*omega*(C_L + C_{DD1} + C_{DD2}) + (-g_{m2}*r_{o2} + 1)/r_{o2} + 1/r_{o1})"
      ]
     },
     "execution_count": 25,
     "metadata": {},
     "output_type": "execute_result"
    }
   ],
   "source": [
    "gain = -gm1*Zparallel\n",
    "gain"
   ]
  },
  {
   "cell_type": "code",
   "execution_count": 37,
   "metadata": {},
   "outputs": [
    {
     "data": {
      "text/latex": [
       "$\\displaystyle \\frac{g_{m1} r_{o1} r_{o2}}{r_{o1} \\left(g_{m2} r_{o2} - 1\\right) - r_{o2}}$"
      ],
      "text/plain": [
       "g_{m1}*r_{o1}*r_{o2}/(r_{o1}*(g_{m2}*r_{o2} - 1) - r_{o2})"
      ]
     },
     "execution_count": 37,
     "metadata": {},
     "output_type": "execute_result"
    }
   ],
   "source": [
    "gain_alternate = gain.subs(omega,0).simplify()\n",
    "gain_alternate"
   ]
  },
  {
   "cell_type": "code",
   "execution_count": 29,
   "metadata": {},
   "outputs": [
    {
     "data": {
      "text/latex": [
       "$\\displaystyle \\frac{g_{m1}}{\\sqrt{g_{m2}^{2} - \\frac{2 g_{m2}}{r_{o2}} - \\frac{2 g_{m2}}{r_{o1}} + \\omega^{2} \\left(C_{L}^{2} + 2 C_{L} C_{DD1} + 2 C_{L} C_{DD2} + C_{DD1}^{2} + 2 C_{DD1} C_{DD2} + C_{DD2}^{2}\\right) + \\frac{1}{r_{o2}^{2}} + \\frac{2}{r_{o1} r_{o2}} + \\frac{1}{r_{o1}^{2}}}}$"
      ],
      "text/plain": [
       "g_{m1}/sqrt(g_{m2}**2 - 2*g_{m2}/r_{o2} - 2*g_{m2}/r_{o1} + omega**2*(C_L**2 + 2*C_L*C_{DD1} + 2*C_L*C_{DD2} + C_{DD1}**2 + 2*C_{DD1}*C_{DD2} + C_{DD2}**2) + r_{o2}**(-2) + 2/(r_{o1}*r_{o2}) + r_{o1}**(-2))"
      ]
     },
     "execution_count": 29,
     "metadata": {},
     "output_type": "execute_result"
    }
   ],
   "source": [
    "gain_abs = Abs(gain).simplify().collect(omega**2)\n",
    "gain_abs"
   ]
  },
  {
   "cell_type": "code",
   "execution_count": 32,
   "metadata": {},
   "outputs": [
    {
     "data": {
      "text/latex": [
       "$\\displaystyle \\frac{g_{m1}}{\\sqrt{g_{m2}^{2} - \\frac{2 g_{m2}}{r_{o2}} - \\frac{2 g_{m2}}{r_{o1}} + \\frac{1}{r_{o2}^{2}} + \\frac{2}{r_{o1} r_{o2}} + \\frac{1}{r_{o1}^{2}}}}$"
      ],
      "text/plain": [
       "g_{m1}/sqrt(g_{m2}**2 - 2*g_{m2}/r_{o2} - 2*g_{m2}/r_{o1} + r_{o2}**(-2) + 2/(r_{o1}*r_{o2}) + r_{o1}**(-2))"
      ]
     },
     "execution_count": 32,
     "metadata": {},
     "output_type": "execute_result"
    }
   ],
   "source": [
    "gain_DC = gain_abs.subs(omega,0)\n",
    "gain_DC"
   ]
  },
  {
   "cell_type": "code",
   "execution_count": 33,
   "metadata": {},
   "outputs": [
    {
     "data": {
      "text/latex": [
       "$\\displaystyle 3.47105493303889$"
      ],
      "text/plain": [
       "3.47105493303889"
      ]
     },
     "execution_count": 33,
     "metadata": {},
     "output_type": "execute_result"
    }
   ],
   "source": [
    "gain_DC_numeric = gain_DC.subs(gm1, 811.8e-6).subs(gm2, 248.5e-6).subs(ro1, 90.59e3).subs(ro2, 279e3)\n",
    "gain_DC_numeric"
   ]
  },
  {
   "cell_type": "code",
   "execution_count": null,
   "metadata": {},
   "outputs": [],
   "source": []
  }
 ],
 "metadata": {
  "kernelspec": {
   "display_name": "Python 3",
   "language": "python",
   "name": "python3"
  },
  "language_info": {
   "codemirror_mode": {
    "name": "ipython",
    "version": 3
   },
   "file_extension": ".py",
   "mimetype": "text/x-python",
   "name": "python",
   "nbconvert_exporter": "python",
   "pygments_lexer": "ipython3",
   "version": "3.8.13"
  }
 },
 "nbformat": 4,
 "nbformat_minor": 2
}
