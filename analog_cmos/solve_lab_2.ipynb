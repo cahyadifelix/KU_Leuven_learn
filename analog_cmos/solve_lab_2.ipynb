{
 "cells": [
  {
   "cell_type": "code",
   "execution_count": 1,
   "metadata": {},
   "outputs": [],
   "source": [
    "from sympy import I, Symbol, sqrt, simplify, Subs, latex, factor, collect, expand\n",
    "from sympy import solve, Eq, arg, exp, re, im, atan2\n",
    "from sympy.functions.elementary.complexes import Abs\n",
    "import numpy as np"
   ]
  },
  {
   "cell_type": "code",
   "execution_count": 2,
   "metadata": {},
   "outputs": [
    {
     "data": {
      "text/latex": [
       "$\\displaystyle \\frac{1}{i C_{L} \\omega + i C_{DD} \\omega + \\frac{1}{r_{o}} + \\frac{1}{R_{D}}}$"
      ],
      "text/plain": [
       "1/(I*C_L*omega + I*C_{DD}*omega + 1/r_o + 1/R_D)"
      ]
     },
     "execution_count": 2,
     "metadata": {},
     "output_type": "execute_result"
    }
   ],
   "source": [
    "ro = Symbol('r_o', nonnegative = True)\n",
    "RD = Symbol('R_D', nonnegative = True)\n",
    "CL = Symbol('C_L', nonnegative = True)\n",
    "CDD = Symbol(\"C_{DD}\", nonnegative = True)\n",
    "omega = Symbol(\"omega\", nonnegative = True)\n",
    "gm = Symbol(\"g_m\", nonnegative = True)\n",
    "\n",
    "ZCL = 1/(I*omega*CL)\n",
    "ZCDD = 1/(I*omega*CDD)\n",
    "\n",
    "par_all = 1/((1/ro) + (1/ZCL) + (1/ZCDD) + (1/RD))\n",
    "par_all\n"
   ]
  },
  {
   "cell_type": "code",
   "execution_count": 4,
   "metadata": {},
   "outputs": [
    {
     "data": {
      "text/latex": [
       "$\\displaystyle \\frac{g_{m}}{i \\left(C_{L} \\omega + C_{DD} \\omega\\right) + \\frac{1}{r_{o}} + \\frac{1}{R_{D}}}$"
      ],
      "text/plain": [
       "g_m/(I*(C_L*omega + C_{DD}*omega) + 1/r_o + 1/R_D)"
      ]
     },
     "execution_count": 4,
     "metadata": {},
     "output_type": "execute_result"
    }
   ],
   "source": [
    "gain = collect(gm*par_all, syms=I)\n",
    "gain"
   ]
  },
  {
   "cell_type": "code",
   "execution_count": 5,
   "metadata": {},
   "outputs": [
    {
     "name": "stdout",
     "output_type": "stream",
     "text": [
      "\\frac{g_{m}}{i \\left(C_{L} \\omega + C_{DD} \\omega\\right) + \\frac{1}{r_{o}} + \\frac{1}{R_{D}}}\n"
     ]
    }
   ],
   "source": [
    "print(latex(gain))"
   ]
  },
  {
   "cell_type": "code",
   "execution_count": 6,
   "metadata": {},
   "outputs": [
    {
     "data": {
      "text/latex": [
       "$\\displaystyle \\frac{g_{m}}{\\sqrt{\\omega^{2} \\left(C_{L}^{2} + 2 C_{L} C_{DD} + C_{DD}^{2}\\right) + \\frac{1}{r_{o}^{2}} + \\frac{2}{R_{D} r_{o}} + \\frac{1}{R_{D}^{2}}}}$"
      ],
      "text/plain": [
       "g_m/sqrt(omega**2*(C_L**2 + 2*C_L*C_{DD} + C_{DD}**2) + r_o**(-2) + 2/(R_D*r_o) + R_D**(-2))"
      ]
     },
     "execution_count": 6,
     "metadata": {},
     "output_type": "execute_result"
    }
   ],
   "source": [
    "gain_abs = collect(Abs(gain),syms = omega)\n",
    "gain_abs"
   ]
  },
  {
   "cell_type": "code",
   "execution_count": 7,
   "metadata": {},
   "outputs": [
    {
     "name": "stdout",
     "output_type": "stream",
     "text": [
      "\\frac{g_{m}}{\\sqrt{\\omega^{2} \\left(C_{L}^{2} + 2 C_{L} C_{DD} + C_{DD}^{2}\\right) + \\frac{1}{r_{o}^{2}} + \\frac{2}{R_{D} r_{o}} + \\frac{1}{R_{D}^{2}}}}\n"
     ]
    }
   ],
   "source": [
    "print(latex(gain_abs))"
   ]
  },
  {
   "cell_type": "code",
   "execution_count": 10,
   "metadata": {},
   "outputs": [
    {
     "data": {
      "text/latex": [
       "$\\displaystyle \\frac{g_{m}}{\\sqrt{\\frac{1}{r_{o}^{2}} + \\frac{2}{R_{D} r_{o}} + \\frac{1}{R_{D}^{2}}}}$"
      ],
      "text/plain": [
       "g_m/sqrt(r_o**(-2) + 2/(R_D*r_o) + R_D**(-2))"
      ]
     },
     "execution_count": 10,
     "metadata": {},
     "output_type": "execute_result"
    }
   ],
   "source": [
    "gain_DC = gain_abs.subs(omega,0)\n",
    "gain_DC"
   ]
  },
  {
   "cell_type": "code",
   "execution_count": null,
   "metadata": {},
   "outputs": [],
   "source": []
  }
 ],
 "metadata": {
  "kernelspec": {
   "display_name": "Python 3",
   "language": "python",
   "name": "python3"
  },
  "language_info": {
   "codemirror_mode": {
    "name": "ipython",
    "version": 3
   },
   "file_extension": ".py",
   "mimetype": "text/x-python",
   "name": "python",
   "nbconvert_exporter": "python",
   "pygments_lexer": "ipython3",
   "version": "3.8.13"
  }
 },
 "nbformat": 4,
 "nbformat_minor": 2
}
