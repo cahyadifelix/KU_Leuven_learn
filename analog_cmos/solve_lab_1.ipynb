{
 "cells": [
  {
   "cell_type": "code",
   "execution_count": 2,
   "metadata": {},
   "outputs": [],
   "source": [
    "from sympy import I, Symbol, sqrt, simplify, Subs, latex, factor, collect, expand\n",
    "from sympy import solve, Eq, arg, exp, re, im, atan2\n",
    "from sympy.functions.elementary.complexes import Abs\n",
    "import numpy as np"
   ]
  },
  {
   "cell_type": "code",
   "execution_count": 3,
   "metadata": {},
   "outputs": [],
   "source": [
    "C_1 = Symbol(\"C_1\", nonnegative = True)\n",
    "C_2 = Symbol(\"C_2\", nonnegative = True)\n",
    "R_1 = Symbol(\"R_1\", nonnegative = True)\n",
    "R_2 = Symbol(\"R_2\", nonnegative = True)\n",
    "omega = Symbol(\"omega\", nonnegative = True)"
   ]
  },
  {
   "cell_type": "code",
   "execution_count": 4,
   "metadata": {},
   "outputs": [],
   "source": [
    "Z_C1 = 1/(I*omega*C_1)\n",
    "Z_C2 = 1/(I*omega*C_2)\n",
    "\n",
    "par = (Z_C1*(R_2+Z_C2))/(Z_C1+R_2+Z_C2)\n",
    "v_out = (Z_C2/(R_2+Z_C2))*(par/(R_1 + par))\n",
    "v_out_simple = collect(simplify(factor(v_out)), syms = I)"
   ]
  },
  {
   "cell_type": "code",
   "execution_count": 5,
   "metadata": {},
   "outputs": [
    {
     "name": "stdout",
     "output_type": "stream",
     "text": [
      "\\frac{1}{- C_{1} C_{2} R_{1} R_{2} \\omega^{2} + i \\left(C_{1} R_{1} \\omega + C_{2} R_{1} \\omega + C_{2} R_{2} \\omega\\right) + 1}\n"
     ]
    }
   ],
   "source": [
    "print(latex(collect(simplify(factor(v_out)), syms = I)))"
   ]
  },
  {
   "cell_type": "code",
   "execution_count": 6,
   "metadata": {},
   "outputs": [
    {
     "name": "stdout",
     "output_type": "stream",
     "text": [
      "\\frac{1}{\\sqrt{C_{1}^{2} C_{2}^{2} R_{1}^{2} R_{2}^{2} \\omega^{4} + C_{1}^{2} R_{1}^{2} \\omega^{2} + 2 C_{1} C_{2} R_{1}^{2} \\omega^{2} + C_{2}^{2} R_{1}^{2} \\omega^{2} + 2 C_{2}^{2} R_{1} R_{2} \\omega^{2} + C_{2}^{2} R_{2}^{2} \\omega^{2} + 1}}\n"
     ]
    }
   ],
   "source": [
    "print(latex(simplify(Abs(collect(simplify(factor(v_out)), syms = I)))))"
   ]
  },
  {
   "cell_type": "code",
   "execution_count": 7,
   "metadata": {},
   "outputs": [
    {
     "name": "stdout",
     "output_type": "stream",
     "text": [
      "\\frac{- C_{1} R_{1} \\omega - C_{2} R_{1} \\omega - C_{2} R_{2} \\omega}{- C_{1} C_{2} R_{1} R_{2} \\omega^{2} + 1}\n"
     ]
    }
   ],
   "source": [
    "print(latex(im(v_out_simple)/re(v_out_simple)))"
   ]
  },
  {
   "cell_type": "code",
   "execution_count": 8,
   "metadata": {},
   "outputs": [
    {
     "data": {
      "text/latex": [
       "$\\displaystyle 57.2957795130823 \\operatorname{atan_{2}}{\\left(\\frac{- C_{1} R_{1} \\omega - C_{2} R_{1} \\omega - C_{2} R_{2} \\omega}{\\left(- C_{1} C_{2} R_{1} R_{2} \\omega^{2} + 1\\right)^{2} + \\left(C_{1} R_{1} \\omega + C_{2} R_{1} \\omega + C_{2} R_{2} \\omega\\right)^{2}},\\frac{- C_{1} C_{2} R_{1} R_{2} \\omega^{2} + 1}{\\left(- C_{1} C_{2} R_{1} R_{2} \\omega^{2} + 1\\right)^{2} + \\left(C_{1} R_{1} \\omega + C_{2} R_{1} \\omega + C_{2} R_{2} \\omega\\right)^{2}} \\right)}$"
      ],
      "text/plain": [
       "57.2957795130823*atan2((-C_1*R_1*omega - C_2*R_1*omega - C_2*R_2*omega)/((-C_1*C_2*R_1*R_2*omega**2 + 1)**2 + (C_1*R_1*omega + C_2*R_1*omega + C_2*R_2*omega)**2), (-C_1*C_2*R_1*R_2*omega**2 + 1)/((-C_1*C_2*R_1*R_2*omega**2 + 1)**2 + (C_1*R_1*omega + C_2*R_1*omega + C_2*R_2*omega)**2))"
      ]
     },
     "execution_count": 8,
     "metadata": {},
     "output_type": "execute_result"
    }
   ],
   "source": [
    "v_out_phase = atan2(im(v_out_simple),re(v_out_simple))*(180/np.pi)\n",
    "v_out_phase"
   ]
  },
  {
   "cell_type": "code",
   "execution_count": 9,
   "metadata": {},
   "outputs": [
    {
     "data": {
      "text/latex": [
       "$\\displaystyle 0$"
      ],
      "text/plain": [
       "0"
      ]
     },
     "execution_count": 9,
     "metadata": {},
     "output_type": "execute_result"
    }
   ],
   "source": [
    "v_out_phase.subs(C_1, 1e-9).subs(C_2, 1e-6).subs(R_1, 1e3).subs(R_2, 1e2).subs(omega,0)"
   ]
  },
  {
   "cell_type": "code",
   "execution_count": 10,
   "metadata": {},
   "outputs": [
    {
     "data": {
      "text/latex": [
       "$\\displaystyle -45.0047271756127$"
      ],
      "text/plain": [
       "-45.0047271756127"
      ]
     },
     "execution_count": 10,
     "metadata": {},
     "output_type": "execute_result"
    }
   ],
   "source": [
    "v_out_phase.subs(C_1, 1e-9).subs(C_2, 1e-6).subs(R_1, 1e3).subs(R_2, 1e2).subs(omega,908.340146571434)"
   ]
  },
  {
   "cell_type": "code",
   "execution_count": 11,
   "metadata": {},
   "outputs": [
    {
     "data": {
      "text/latex": [
       "$\\displaystyle C_{1}^{2} C_{2}^{2} R_{1}^{2} R_{2}^{2} \\omega^{4} + C_{1}^{2} R_{1}^{2} \\omega^{2} + 2 C_{1} C_{2} R_{1}^{2} \\omega^{2} + C_{2}^{2} R_{1}^{2} \\omega^{2} + 2 C_{2}^{2} R_{1} R_{2} \\omega^{2} + C_{2}^{2} R_{2}^{2} \\omega^{2} + 1$"
      ],
      "text/plain": [
       "C_1**2*C_2**2*R_1**2*R_2**2*omega**4 + C_1**2*R_1**2*omega**2 + 2*C_1*C_2*R_1**2*omega**2 + C_2**2*R_1**2*omega**2 + 2*C_2**2*R_1*R_2*omega**2 + C_2**2*R_2**2*omega**2 + 1"
      ]
     },
     "execution_count": 11,
     "metadata": {},
     "output_type": "execute_result"
    }
   ],
   "source": [
    "v_out_invert = (1/simplify(Abs(collect(simplify(factor(v_out)), syms = I))))**2\n",
    "v_out_invert"
   ]
  },
  {
   "cell_type": "code",
   "execution_count": 12,
   "metadata": {},
   "outputs": [
    {
     "data": {
      "text/latex": [
       "$\\displaystyle C_{1}^{2} C_{2}^{2} R_{1}^{2} R_{2}^{2} \\omega^{4} + C_{1}^{2} R_{1}^{2} \\omega^{2} + 2 C_{1} C_{2} R_{1}^{2} \\omega^{2} + C_{2}^{2} R_{1}^{2} \\omega^{2} + 2 C_{2}^{2} R_{1} R_{2} \\omega^{2} + C_{2}^{2} R_{2}^{2} \\omega^{2} + 1 = 2$"
      ],
      "text/plain": [
       "Eq(C_1**2*C_2**2*R_1**2*R_2**2*omega**4 + C_1**2*R_1**2*omega**2 + 2*C_1*C_2*R_1**2*omega**2 + C_2**2*R_1**2*omega**2 + 2*C_2**2*R_1*R_2*omega**2 + C_2**2*R_2**2*omega**2 + 1, 2)"
      ]
     },
     "execution_count": 12,
     "metadata": {},
     "output_type": "execute_result"
    }
   ],
   "source": [
    "v_out_invert_eq = Eq(v_out_invert,2)\n",
    "v_out_invert_eq"
   ]
  },
  {
   "cell_type": "code",
   "execution_count": 13,
   "metadata": {},
   "outputs": [
    {
     "data": {
      "text/latex": [
       "$\\displaystyle \\frac{\\sqrt{2}}{2} = \\frac{1}{\\sqrt{C_{1}^{2} C_{2}^{2} R_{1}^{2} R_{2}^{2} \\omega^{4} + C_{1}^{2} R_{1}^{2} \\omega^{2} + 2 C_{1} C_{2} R_{1}^{2} \\omega^{2} + C_{2}^{2} R_{1}^{2} \\omega^{2} + 2 C_{2}^{2} R_{1} R_{2} \\omega^{2} + C_{2}^{2} R_{2}^{2} \\omega^{2} + 1}}$"
      ],
      "text/plain": [
       "Eq(sqrt(2)/2, 1/sqrt(C_1**2*C_2**2*R_1**2*R_2**2*omega**4 + C_1**2*R_1**2*omega**2 + 2*C_1*C_2*R_1**2*omega**2 + C_2**2*R_1**2*omega**2 + 2*C_2**2*R_1*R_2*omega**2 + C_2**2*R_2**2*omega**2 + 1))"
      ]
     },
     "execution_count": 13,
     "metadata": {},
     "output_type": "execute_result"
    }
   ],
   "source": [
    "v_out_cutoff = Eq(1/sqrt(2), Abs(collect(simplify(factor(v_out)), syms = I)))\n",
    "v_out_cutoff"
   ]
  },
  {
   "cell_type": "code",
   "execution_count": 14,
   "metadata": {},
   "outputs": [
    {
     "name": "stdout",
     "output_type": "stream",
     "text": [
      "\\frac{\\sqrt{2}}{2} = \\frac{1}{\\sqrt{C_{1}^{2} C_{2}^{2} R_{1}^{2} R_{2}^{2} \\omega^{4} + C_{1}^{2} R_{1}^{2} \\omega^{2} + 2 C_{1} C_{2} R_{1}^{2} \\omega^{2} + C_{2}^{2} R_{1}^{2} \\omega^{2} + 2 C_{2}^{2} R_{1} R_{2} \\omega^{2} + C_{2}^{2} R_{2}^{2} \\omega^{2} + 1}}\n"
     ]
    }
   ],
   "source": [
    "print(latex(v_out_cutoff))"
   ]
  },
  {
   "cell_type": "code",
   "execution_count": 15,
   "metadata": {},
   "outputs": [],
   "source": [
    "numerical_cutoff = v_out_cutoff.subs(C_1, 1e-9).subs(C_2, 1e-6).subs(R_1, 1e3).subs(R_2, 1e2)"
   ]
  },
  {
   "cell_type": "code",
   "execution_count": 16,
   "metadata": {},
   "outputs": [
    {
     "data": {
      "text/latex": [
       "$\\displaystyle \\frac{1}{\\sqrt{1.0 \\cdot 10^{-20} \\omega^{4} + 1.212001 \\cdot 10^{-6} \\omega^{2} + 1}} = \\frac{\\sqrt{2}}{2}$"
      ],
      "text/plain": [
       "Eq(1/sqrt(1.0e-20*omega**4 + 1.212001e-6*omega**2 + 1), sqrt(2)/2)"
      ]
     },
     "execution_count": 16,
     "metadata": {},
     "output_type": "execute_result"
    }
   ],
   "source": [
    "simplify(numerical_cutoff)"
   ]
  },
  {
   "cell_type": "code",
   "execution_count": 151,
   "metadata": {},
   "outputs": [],
   "source": [
    "sol = solve(numerical_cutoff, symbols = omega)"
   ]
  },
  {
   "cell_type": "code",
   "execution_count": 153,
   "metadata": {},
   "outputs": [
    {
     "data": {
      "text/plain": [
       "[908.340146571434]"
      ]
     },
     "execution_count": 153,
     "metadata": {},
     "output_type": "execute_result"
    }
   ],
   "source": [
    "sol"
   ]
  },
  {
   "cell_type": "code",
   "execution_count": 154,
   "metadata": {},
   "outputs": [
    {
     "data": {
      "text/latex": [
       "$\\displaystyle 144.56682433566$"
      ],
      "text/plain": [
       "144.566824335660"
      ]
     },
     "execution_count": 154,
     "metadata": {},
     "output_type": "execute_result"
    }
   ],
   "source": [
    "freq_sol = sol[0]/(2*np.pi)\n",
    "freq_sol"
   ]
  },
  {
   "cell_type": "code",
   "execution_count": 131,
   "metadata": {},
   "outputs": [],
   "source": [
    "sol_anal = solve(v_out_invert_eq, omega, dict = True)"
   ]
  },
  {
   "cell_type": "code",
   "execution_count": 132,
   "metadata": {},
   "outputs": [
    {
     "data": {
      "text/plain": [
       "[{omega: -sqrt(2)*sqrt(-1/(C_2**2*R_2**2) - 2/(C_1*C_2*R_2**2) - 1/(C_1**2*R_2**2) - 2/(C_1**2*R_1*R_2) - 1/(C_1**2*R_1**2) + sqrt(C_1**4*R_1**4 + 4*C_1**3*C_2*R_1**4 + 6*C_1**2*C_2**2*R_1**4 + 4*C_1**2*C_2**2*R_1**3*R_2 + 6*C_1**2*C_2**2*R_1**2*R_2**2 + 4*C_1*C_2**3*R_1**4 + 8*C_1*C_2**3*R_1**3*R_2 + 4*C_1*C_2**3*R_1**2*R_2**2 + C_2**4*R_1**4 + 4*C_2**4*R_1**3*R_2 + 6*C_2**4*R_1**2*R_2**2 + 4*C_2**4*R_1*R_2**3 + C_2**4*R_2**4)/(C_1**2*C_2**2*R_1**2*R_2**2))/2},\n",
       " {omega: sqrt(2)*sqrt(-1/(C_2**2*R_2**2) - 2/(C_1*C_2*R_2**2) - 1/(C_1**2*R_2**2) - 2/(C_1**2*R_1*R_2) - 1/(C_1**2*R_1**2) + sqrt(C_1**4*R_1**4 + 4*C_1**3*C_2*R_1**4 + 6*C_1**2*C_2**2*R_1**4 + 4*C_1**2*C_2**2*R_1**3*R_2 + 6*C_1**2*C_2**2*R_1**2*R_2**2 + 4*C_1*C_2**3*R_1**4 + 8*C_1*C_2**3*R_1**3*R_2 + 4*C_1*C_2**3*R_1**2*R_2**2 + C_2**4*R_1**4 + 4*C_2**4*R_1**3*R_2 + 6*C_2**4*R_1**2*R_2**2 + 4*C_2**4*R_1*R_2**3 + C_2**4*R_2**4)/(C_1**2*C_2**2*R_1**2*R_2**2))/2},\n",
       " {omega: -sqrt(2)*sqrt(-1/(C_1**2*C_2**2*R_1**2*R_2**2))*sqrt(C_1**2*R_1**2 + 2*C_1*C_2*R_1**2 + C_2**2*R_1**2 + 2*C_2**2*R_1*R_2 + C_2**2*R_2**2 + sqrt(C_1**4*R_1**4 + 4*C_1**3*C_2*R_1**4 + 6*C_1**2*C_2**2*R_1**4 + 4*C_1**2*C_2**2*R_1**3*R_2 + 6*C_1**2*C_2**2*R_1**2*R_2**2 + 4*C_1*C_2**3*R_1**4 + 8*C_1*C_2**3*R_1**3*R_2 + 4*C_1*C_2**3*R_1**2*R_2**2 + C_2**4*R_1**4 + 4*C_2**4*R_1**3*R_2 + 6*C_2**4*R_1**2*R_2**2 + 4*C_2**4*R_1*R_2**3 + C_2**4*R_2**4))/2},\n",
       " {omega: sqrt(2)*sqrt(-1/(C_1**2*C_2**2*R_1**2*R_2**2))*sqrt(C_1**2*R_1**2 + 2*C_1*C_2*R_1**2 + C_2**2*R_1**2 + 2*C_2**2*R_1*R_2 + C_2**2*R_2**2 + sqrt(C_1**4*R_1**4 + 4*C_1**3*C_2*R_1**4 + 6*C_1**2*C_2**2*R_1**4 + 4*C_1**2*C_2**2*R_1**3*R_2 + 6*C_1**2*C_2**2*R_1**2*R_2**2 + 4*C_1*C_2**3*R_1**4 + 8*C_1*C_2**3*R_1**3*R_2 + 4*C_1*C_2**3*R_1**2*R_2**2 + C_2**4*R_1**4 + 4*C_2**4*R_1**3*R_2 + 6*C_2**4*R_1**2*R_2**2 + 4*C_2**4*R_1*R_2**3 + C_2**4*R_2**4))/2}]"
      ]
     },
     "execution_count": 132,
     "metadata": {},
     "output_type": "execute_result"
    }
   ],
   "source": [
    "sol_anal"
   ]
  },
  {
   "cell_type": "code",
   "execution_count": 137,
   "metadata": {},
   "outputs": [
    {
     "data": {
      "text/latex": [
       "$\\displaystyle - \\frac{\\sqrt{2} \\sqrt{- \\frac{C_{1}^{2} R_{1}^{2} + 2 C_{1} C_{2} R_{1}^{2} + C_{2}^{2} R_{1}^{2} + 2 C_{2}^{2} R_{1} R_{2} + C_{2}^{2} R_{2}^{2} - \\sqrt{C_{1}^{4} R_{1}^{4} + 4 C_{1}^{3} C_{2} R_{1}^{4} + 6 C_{1}^{2} C_{2}^{2} R_{1}^{4} + 4 C_{1}^{2} C_{2}^{2} R_{1}^{3} R_{2} + 6 C_{1}^{2} C_{2}^{2} R_{1}^{2} R_{2}^{2} + 4 C_{1} C_{2}^{3} R_{1}^{4} + 8 C_{1} C_{2}^{3} R_{1}^{3} R_{2} + 4 C_{1} C_{2}^{3} R_{1}^{2} R_{2}^{2} + C_{2}^{4} R_{1}^{4} + 4 C_{2}^{4} R_{1}^{3} R_{2} + 6 C_{2}^{4} R_{1}^{2} R_{2}^{2} + 4 C_{2}^{4} R_{1} R_{2}^{3} + C_{2}^{4} R_{2}^{4}}}{C_{1}^{2} C_{2}^{2} R_{1}^{2} R_{2}^{2}}}}{2}$"
      ],
      "text/plain": [
       "-sqrt(2)*sqrt(-(C_1**2*R_1**2 + 2*C_1*C_2*R_1**2 + C_2**2*R_1**2 + 2*C_2**2*R_1*R_2 + C_2**2*R_2**2 - sqrt(C_1**4*R_1**4 + 4*C_1**3*C_2*R_1**4 + 6*C_1**2*C_2**2*R_1**4 + 4*C_1**2*C_2**2*R_1**3*R_2 + 6*C_1**2*C_2**2*R_1**2*R_2**2 + 4*C_1*C_2**3*R_1**4 + 8*C_1*C_2**3*R_1**3*R_2 + 4*C_1*C_2**3*R_1**2*R_2**2 + C_2**4*R_1**4 + 4*C_2**4*R_1**3*R_2 + 6*C_2**4*R_1**2*R_2**2 + 4*C_2**4*R_1*R_2**3 + C_2**4*R_2**4))/(C_1**2*C_2**2*R_1**2*R_2**2))/2"
      ]
     },
     "execution_count": 137,
     "metadata": {},
     "output_type": "execute_result"
    }
   ],
   "source": [
    "simplify(expand(sol_anal[0][omega]))"
   ]
  },
  {
   "cell_type": "code",
   "execution_count": 136,
   "metadata": {},
   "outputs": [
    {
     "data": {
      "text/latex": [
       "$\\displaystyle \\frac{\\sqrt{2} \\sqrt{\\frac{- C_{1}^{2} R_{1}^{2} - 2 C_{1} C_{2} R_{1}^{2} - C_{2}^{2} R_{1}^{2} - 2 C_{2}^{2} R_{1} R_{2} - C_{2}^{2} R_{2}^{2} + \\sqrt{C_{1}^{4} R_{1}^{4} + 4 C_{1}^{3} C_{2} R_{1}^{4} + 6 C_{1}^{2} C_{2}^{2} R_{1}^{4} + 4 C_{1}^{2} C_{2}^{2} R_{1}^{3} R_{2} + 6 C_{1}^{2} C_{2}^{2} R_{1}^{2} R_{2}^{2} + 4 C_{1} C_{2}^{3} R_{1}^{4} + 8 C_{1} C_{2}^{3} R_{1}^{3} R_{2} + 4 C_{1} C_{2}^{3} R_{1}^{2} R_{2}^{2} + C_{2}^{4} R_{1}^{4} + 4 C_{2}^{4} R_{1}^{3} R_{2} + 6 C_{2}^{4} R_{1}^{2} R_{2}^{2} + 4 C_{2}^{4} R_{1} R_{2}^{3} + C_{2}^{4} R_{2}^{4}}}{C_{1}^{2} C_{2}^{2} R_{1}^{2} R_{2}^{2}}}}{2}$"
      ],
      "text/plain": [
       "sqrt(2)*sqrt((-C_1**2*R_1**2 - 2*C_1*C_2*R_1**2 - C_2**2*R_1**2 - 2*C_2**2*R_1*R_2 - C_2**2*R_2**2 + sqrt(C_1**4*R_1**4 + 4*C_1**3*C_2*R_1**4 + 6*C_1**2*C_2**2*R_1**4 + 4*C_1**2*C_2**2*R_1**3*R_2 + 6*C_1**2*C_2**2*R_1**2*R_2**2 + 4*C_1*C_2**3*R_1**4 + 8*C_1*C_2**3*R_1**3*R_2 + 4*C_1*C_2**3*R_1**2*R_2**2 + C_2**4*R_1**4 + 4*C_2**4*R_1**3*R_2 + 6*C_2**4*R_1**2*R_2**2 + 4*C_2**4*R_1*R_2**3 + C_2**4*R_2**4))/(C_1**2*C_2**2*R_1**2*R_2**2))/2"
      ]
     },
     "execution_count": 136,
     "metadata": {},
     "output_type": "execute_result"
    }
   ],
   "source": [
    "simplify(expand(sol_anal[1][omega]))"
   ]
  },
  {
   "cell_type": "code",
   "execution_count": 138,
   "metadata": {},
   "outputs": [
    {
     "data": {
      "text/latex": [
       "$\\displaystyle - \\frac{\\sqrt{2} \\sqrt{- \\frac{1}{C_{1}^{2} C_{2}^{2} R_{1}^{2} R_{2}^{2}}} \\sqrt{C_{1}^{2} R_{1}^{2} + 2 C_{1} C_{2} R_{1}^{2} + C_{2}^{2} R_{1}^{2} + 2 C_{2}^{2} R_{1} R_{2} + C_{2}^{2} R_{2}^{2} + \\sqrt{C_{1}^{4} R_{1}^{4} + 4 C_{1}^{3} C_{2} R_{1}^{4} + 6 C_{1}^{2} C_{2}^{2} R_{1}^{4} + 4 C_{1}^{2} C_{2}^{2} R_{1}^{3} R_{2} + 6 C_{1}^{2} C_{2}^{2} R_{1}^{2} R_{2}^{2} + 4 C_{1} C_{2}^{3} R_{1}^{4} + 8 C_{1} C_{2}^{3} R_{1}^{3} R_{2} + 4 C_{1} C_{2}^{3} R_{1}^{2} R_{2}^{2} + C_{2}^{4} R_{1}^{4} + 4 C_{2}^{4} R_{1}^{3} R_{2} + 6 C_{2}^{4} R_{1}^{2} R_{2}^{2} + 4 C_{2}^{4} R_{1} R_{2}^{3} + C_{2}^{4} R_{2}^{4}}}}{2}$"
      ],
      "text/plain": [
       "-sqrt(2)*sqrt(-1/(C_1**2*C_2**2*R_1**2*R_2**2))*sqrt(C_1**2*R_1**2 + 2*C_1*C_2*R_1**2 + C_2**2*R_1**2 + 2*C_2**2*R_1*R_2 + C_2**2*R_2**2 + sqrt(C_1**4*R_1**4 + 4*C_1**3*C_2*R_1**4 + 6*C_1**2*C_2**2*R_1**4 + 4*C_1**2*C_2**2*R_1**3*R_2 + 6*C_1**2*C_2**2*R_1**2*R_2**2 + 4*C_1*C_2**3*R_1**4 + 8*C_1*C_2**3*R_1**3*R_2 + 4*C_1*C_2**3*R_1**2*R_2**2 + C_2**4*R_1**4 + 4*C_2**4*R_1**3*R_2 + 6*C_2**4*R_1**2*R_2**2 + 4*C_2**4*R_1*R_2**3 + C_2**4*R_2**4))/2"
      ]
     },
     "execution_count": 138,
     "metadata": {},
     "output_type": "execute_result"
    }
   ],
   "source": [
    "simplify(expand(sol_anal[2][omega]))"
   ]
  },
  {
   "cell_type": "code",
   "execution_count": 139,
   "metadata": {},
   "outputs": [
    {
     "data": {
      "text/latex": [
       "$\\displaystyle \\frac{\\sqrt{2} \\sqrt{- \\frac{1}{C_{1}^{2} C_{2}^{2} R_{1}^{2} R_{2}^{2}}} \\sqrt{C_{1}^{2} R_{1}^{2} + 2 C_{1} C_{2} R_{1}^{2} + C_{2}^{2} R_{1}^{2} + 2 C_{2}^{2} R_{1} R_{2} + C_{2}^{2} R_{2}^{2} + \\sqrt{C_{1}^{4} R_{1}^{4} + 4 C_{1}^{3} C_{2} R_{1}^{4} + 6 C_{1}^{2} C_{2}^{2} R_{1}^{4} + 4 C_{1}^{2} C_{2}^{2} R_{1}^{3} R_{2} + 6 C_{1}^{2} C_{2}^{2} R_{1}^{2} R_{2}^{2} + 4 C_{1} C_{2}^{3} R_{1}^{4} + 8 C_{1} C_{2}^{3} R_{1}^{3} R_{2} + 4 C_{1} C_{2}^{3} R_{1}^{2} R_{2}^{2} + C_{2}^{4} R_{1}^{4} + 4 C_{2}^{4} R_{1}^{3} R_{2} + 6 C_{2}^{4} R_{1}^{2} R_{2}^{2} + 4 C_{2}^{4} R_{1} R_{2}^{3} + C_{2}^{4} R_{2}^{4}}}}{2}$"
      ],
      "text/plain": [
       "sqrt(2)*sqrt(-1/(C_1**2*C_2**2*R_1**2*R_2**2))*sqrt(C_1**2*R_1**2 + 2*C_1*C_2*R_1**2 + C_2**2*R_1**2 + 2*C_2**2*R_1*R_2 + C_2**2*R_2**2 + sqrt(C_1**4*R_1**4 + 4*C_1**3*C_2*R_1**4 + 6*C_1**2*C_2**2*R_1**4 + 4*C_1**2*C_2**2*R_1**3*R_2 + 6*C_1**2*C_2**2*R_1**2*R_2**2 + 4*C_1*C_2**3*R_1**4 + 8*C_1*C_2**3*R_1**3*R_2 + 4*C_1*C_2**3*R_1**2*R_2**2 + C_2**4*R_1**4 + 4*C_2**4*R_1**3*R_2 + 6*C_2**4*R_1**2*R_2**2 + 4*C_2**4*R_1*R_2**3 + C_2**4*R_2**4))/2"
      ]
     },
     "execution_count": 139,
     "metadata": {},
     "output_type": "execute_result"
    }
   ],
   "source": [
    "simplify(expand(sol_anal[3][omega]))"
   ]
  },
  {
   "cell_type": "code",
   "execution_count": null,
   "metadata": {},
   "outputs": [],
   "source": []
  }
 ],
 "metadata": {
  "kernelspec": {
   "display_name": "Python 3",
   "language": "python",
   "name": "python3"
  },
  "language_info": {
   "codemirror_mode": {
    "name": "ipython",
    "version": 3
   },
   "file_extension": ".py",
   "mimetype": "text/x-python",
   "name": "python",
   "nbconvert_exporter": "python",
   "pygments_lexer": "ipython3",
   "version": "3.8.13"
  }
 },
 "nbformat": 4,
 "nbformat_minor": 2
}
