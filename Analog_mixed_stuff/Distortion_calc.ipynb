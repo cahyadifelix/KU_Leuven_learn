{
 "cells": [
  {
   "cell_type": "code",
   "execution_count": 27,
   "metadata": {},
   "outputs": [],
   "source": [
    "import sympy as sp\n",
    "from sympy import Symbol, solve"
   ]
  },
  {
   "cell_type": "code",
   "execution_count": 28,
   "metadata": {},
   "outputs": [],
   "source": [
    "v = Symbol(\"v\", nonnegative = True)\n",
    "F = Symbol(\"F\", nonnegative = True)\n",
    "y = Symbol(\"y\", nonnegative = True)\n",
    "a1 = Symbol(\"a_1\", nonnegative = True)\n",
    "a2 = Symbol(\"a_2\", nonnegative = True)\n",
    "a3 = Symbol(\"a_3\", nonnegative = True)"
   ]
  },
  {
   "cell_type": "code",
   "execution_count": 29,
   "metadata": {},
   "outputs": [
    {
     "data": {
      "text/latex": [
       "$\\displaystyle - F y + v$"
      ],
      "text/plain": [
       "-F*y + v"
      ]
     },
     "execution_count": 29,
     "metadata": {},
     "output_type": "execute_result"
    }
   ],
   "source": [
    "u = v-F*y\n",
    "u"
   ]
  },
  {
   "cell_type": "code",
   "execution_count": 33,
   "metadata": {},
   "outputs": [
    {
     "data": {
      "text/latex": [
       "$\\displaystyle - F^{3} a_{3} y^{3} + a_{1} v + a_{2} v^{2} + a_{3} v^{3} + y^{2} \\left(F^{2} a_{2} + 3 F^{2} a_{3} v\\right) + y \\left(- F a_{1} - 2 F a_{2} v - 3 F a_{3} v^{2}\\right)$"
      ],
      "text/plain": [
       "-F**3*a_3*y**3 + a_1*v + a_2*v**2 + a_3*v**3 + y**2*(F**2*a_2 + 3*F**2*a_3*v) + y*(-F*a_1 - 2*F*a_2*v - 3*F*a_3*v**2)"
      ]
     },
     "execution_count": 33,
     "metadata": {},
     "output_type": "execute_result"
    }
   ],
   "source": [
    "expr = (a1*u + a2*(u**2) + a3*(u**3)).expand().collect(y)\n",
    "expr"
   ]
  },
  {
   "cell_type": "code",
   "execution_count": 34,
   "metadata": {},
   "outputs": [],
   "source": [
    "solution = solve(expr-y, y)"
   ]
  },
  {
   "cell_type": "code",
   "execution_count": 36,
   "metadata": {},
   "outputs": [
    {
     "data": {
      "text/latex": [
       "$\\displaystyle - \\frac{\\frac{\\left(- a_{2} - 3 a_{3} v\\right)^{2}}{F^{2} a_{3}^{2}} - \\frac{3 \\left(F a_{1} + 2 F a_{2} v + 3 F a_{3} v^{2} + 1\\right)}{F^{3} a_{3}}}{3 \\sqrt[3]{\\frac{\\sqrt{- 4 \\left(\\frac{\\left(- a_{2} - 3 a_{3} v\\right)^{2}}{F^{2} a_{3}^{2}} - \\frac{3 \\left(F a_{1} + 2 F a_{2} v + 3 F a_{3} v^{2} + 1\\right)}{F^{3} a_{3}}\\right)^{3} + \\left(\\frac{27 \\left(- a_{1} v - a_{2} v^{2} - a_{3} v^{3}\\right)}{F^{3} a_{3}} + \\frac{2 \\left(- a_{2} - 3 a_{3} v\\right)^{3}}{F^{3} a_{3}^{3}} - \\frac{9 \\left(- a_{2} - 3 a_{3} v\\right) \\left(F a_{1} + 2 F a_{2} v + 3 F a_{3} v^{2} + 1\\right)}{F^{4} a_{3}^{2}}\\right)^{2}}}{2} + \\frac{27 \\left(- a_{1} v - a_{2} v^{2} - a_{3} v^{3}\\right)}{2 F^{3} a_{3}} + \\frac{\\left(- a_{2} - 3 a_{3} v\\right)^{3}}{F^{3} a_{3}^{3}} - \\frac{9 \\left(- a_{2} - 3 a_{3} v\\right) \\left(F a_{1} + 2 F a_{2} v + 3 F a_{3} v^{2} + 1\\right)}{2 F^{4} a_{3}^{2}}}} - \\frac{\\sqrt[3]{\\frac{\\sqrt{- 4 \\left(\\frac{\\left(- a_{2} - 3 a_{3} v\\right)^{2}}{F^{2} a_{3}^{2}} - \\frac{3 \\left(F a_{1} + 2 F a_{2} v + 3 F a_{3} v^{2} + 1\\right)}{F^{3} a_{3}}\\right)^{3} + \\left(\\frac{27 \\left(- a_{1} v - a_{2} v^{2} - a_{3} v^{3}\\right)}{F^{3} a_{3}} + \\frac{2 \\left(- a_{2} - 3 a_{3} v\\right)^{3}}{F^{3} a_{3}^{3}} - \\frac{9 \\left(- a_{2} - 3 a_{3} v\\right) \\left(F a_{1} + 2 F a_{2} v + 3 F a_{3} v^{2} + 1\\right)}{F^{4} a_{3}^{2}}\\right)^{2}}}{2} + \\frac{27 \\left(- a_{1} v - a_{2} v^{2} - a_{3} v^{3}\\right)}{2 F^{3} a_{3}} + \\frac{\\left(- a_{2} - 3 a_{3} v\\right)^{3}}{F^{3} a_{3}^{3}} - \\frac{9 \\left(- a_{2} - 3 a_{3} v\\right) \\left(F a_{1} + 2 F a_{2} v + 3 F a_{3} v^{2} + 1\\right)}{2 F^{4} a_{3}^{2}}}}{3} - \\frac{- a_{2} - 3 a_{3} v}{3 F a_{3}}$"
      ],
      "text/plain": [
       "-((-a_2 - 3*a_3*v)**2/(F**2*a_3**2) - 3*(F*a_1 + 2*F*a_2*v + 3*F*a_3*v**2 + 1)/(F**3*a_3))/(3*(sqrt(-4*((-a_2 - 3*a_3*v)**2/(F**2*a_3**2) - 3*(F*a_1 + 2*F*a_2*v + 3*F*a_3*v**2 + 1)/(F**3*a_3))**3 + (27*(-a_1*v - a_2*v**2 - a_3*v**3)/(F**3*a_3) + 2*(-a_2 - 3*a_3*v)**3/(F**3*a_3**3) - 9*(-a_2 - 3*a_3*v)*(F*a_1 + 2*F*a_2*v + 3*F*a_3*v**2 + 1)/(F**4*a_3**2))**2)/2 + 27*(-a_1*v - a_2*v**2 - a_3*v**3)/(2*F**3*a_3) + (-a_2 - 3*a_3*v)**3/(F**3*a_3**3) - 9*(-a_2 - 3*a_3*v)*(F*a_1 + 2*F*a_2*v + 3*F*a_3*v**2 + 1)/(2*F**4*a_3**2))**(1/3)) - (sqrt(-4*((-a_2 - 3*a_3*v)**2/(F**2*a_3**2) - 3*(F*a_1 + 2*F*a_2*v + 3*F*a_3*v**2 + 1)/(F**3*a_3))**3 + (27*(-a_1*v - a_2*v**2 - a_3*v**3)/(F**3*a_3) + 2*(-a_2 - 3*a_3*v)**3/(F**3*a_3**3) - 9*(-a_2 - 3*a_3*v)*(F*a_1 + 2*F*a_2*v + 3*F*a_3*v**2 + 1)/(F**4*a_3**2))**2)/2 + 27*(-a_1*v - a_2*v**2 - a_3*v**3)/(2*F**3*a_3) + (-a_2 - 3*a_3*v)**3/(F**3*a_3**3) - 9*(-a_2 - 3*a_3*v)*(F*a_1 + 2*F*a_2*v + 3*F*a_3*v**2 + 1)/(2*F**4*a_3**2))**(1/3)/3 - (-a_2 - 3*a_3*v)/(3*F*a_3)"
      ]
     },
     "execution_count": 36,
     "metadata": {},
     "output_type": "execute_result"
    }
   ],
   "source": [
    "solution[0]"
   ]
  },
  {
   "cell_type": "code",
   "execution_count": null,
   "metadata": {},
   "outputs": [],
   "source": []
  }
 ],
 "metadata": {
  "kernelspec": {
   "display_name": "Python 3",
   "language": "python",
   "name": "python3"
  },
  "language_info": {
   "codemirror_mode": {
    "name": "ipython",
    "version": 3
   },
   "file_extension": ".py",
   "mimetype": "text/x-python",
   "name": "python",
   "nbconvert_exporter": "python",
   "pygments_lexer": "ipython3",
   "version": "undefined.undefined.undefined"
  }
 },
 "nbformat": 4,
 "nbformat_minor": 2
}
